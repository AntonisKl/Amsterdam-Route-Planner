{
 "cells": [
  {
   "cell_type": "code",
   "execution_count": 1,
   "metadata": {
    "collapsed": true
   },
   "outputs": [],
   "source": [
    "%load_ext autoreload\n",
    "%autoreload 2"
   ]
  },
  {
   "cell_type": "code",
   "execution_count": 7,
   "outputs": [
    {
     "ename": "ImportError",
     "evalue": "cannot import name 'CRS' from 'pyproj' (C:\\Users\\Antonis\\anaconda3\\lib\\site-packages\\pyproj\\__init__.py)",
     "output_type": "error",
     "traceback": [
      "\u001B[1;31m---------------------------------------------------------------------------\u001B[0m",
      "\u001B[1;31mImportError\u001B[0m                               Traceback (most recent call last)",
      "\u001B[1;32m<ipython-input-7-35ee34918ef0>\u001B[0m in \u001B[0;36m<module>\u001B[1;34m\u001B[0m\n\u001B[0;32m      2\u001B[0m \u001B[1;32mfrom\u001B[0m \u001B[0mshapely\u001B[0m \u001B[1;32mimport\u001B[0m \u001B[0mwkt\u001B[0m\u001B[1;33m\u001B[0m\u001B[1;33m\u001B[0m\u001B[0m\n\u001B[0;32m      3\u001B[0m \u001B[1;32mfrom\u001B[0m \u001B[0mshapely\u001B[0m\u001B[1;33m.\u001B[0m\u001B[0mgeometry\u001B[0m \u001B[1;32mimport\u001B[0m \u001B[0mLineString\u001B[0m\u001B[1;33m\u001B[0m\u001B[1;33m\u001B[0m\u001B[0m\n\u001B[1;32m----> 4\u001B[1;33m \u001B[1;32mimport\u001B[0m \u001B[0mgeopandas\u001B[0m\u001B[1;33m\u001B[0m\u001B[1;33m\u001B[0m\u001B[0m\n\u001B[0m",
      "\u001B[1;32m~\\anaconda3\\lib\\site-packages\\geopandas\\__init__.py\u001B[0m in \u001B[0;36m<module>\u001B[1;34m\u001B[0m\n\u001B[0;32m      1\u001B[0m \u001B[1;32mfrom\u001B[0m \u001B[0mgeopandas\u001B[0m\u001B[1;33m.\u001B[0m\u001B[0m_config\u001B[0m \u001B[1;32mimport\u001B[0m \u001B[0moptions\u001B[0m  \u001B[1;31m# noqa\u001B[0m\u001B[1;33m\u001B[0m\u001B[1;33m\u001B[0m\u001B[0m\n\u001B[0;32m      2\u001B[0m \u001B[1;33m\u001B[0m\u001B[0m\n\u001B[1;32m----> 3\u001B[1;33m \u001B[1;32mfrom\u001B[0m \u001B[0mgeopandas\u001B[0m\u001B[1;33m.\u001B[0m\u001B[0mgeoseries\u001B[0m \u001B[1;32mimport\u001B[0m \u001B[0mGeoSeries\u001B[0m  \u001B[1;31m# noqa\u001B[0m\u001B[1;33m\u001B[0m\u001B[1;33m\u001B[0m\u001B[0m\n\u001B[0m\u001B[0;32m      4\u001B[0m \u001B[1;32mfrom\u001B[0m \u001B[0mgeopandas\u001B[0m\u001B[1;33m.\u001B[0m\u001B[0mgeodataframe\u001B[0m \u001B[1;32mimport\u001B[0m \u001B[0mGeoDataFrame\u001B[0m  \u001B[1;31m# noqa\u001B[0m\u001B[1;33m\u001B[0m\u001B[1;33m\u001B[0m\u001B[0m\n\u001B[0;32m      5\u001B[0m \u001B[1;32mfrom\u001B[0m \u001B[0mgeopandas\u001B[0m\u001B[1;33m.\u001B[0m\u001B[0marray\u001B[0m \u001B[1;32mimport\u001B[0m \u001B[0mpoints_from_xy\u001B[0m  \u001B[1;31m# noqa\u001B[0m\u001B[1;33m\u001B[0m\u001B[1;33m\u001B[0m\u001B[0m\n",
      "\u001B[1;32m~\\anaconda3\\lib\\site-packages\\geopandas\\geoseries.py\u001B[0m in \u001B[0;36m<module>\u001B[1;34m\u001B[0m\n\u001B[0;32m      7\u001B[0m \u001B[1;32mfrom\u001B[0m \u001B[0mpandas\u001B[0m\u001B[1;33m.\u001B[0m\u001B[0mcore\u001B[0m\u001B[1;33m.\u001B[0m\u001B[0minternals\u001B[0m \u001B[1;32mimport\u001B[0m \u001B[0mSingleBlockManager\u001B[0m\u001B[1;33m\u001B[0m\u001B[1;33m\u001B[0m\u001B[0m\n\u001B[0;32m      8\u001B[0m \u001B[1;33m\u001B[0m\u001B[0m\n\u001B[1;32m----> 9\u001B[1;33m \u001B[1;32mfrom\u001B[0m \u001B[0mpyproj\u001B[0m \u001B[1;32mimport\u001B[0m \u001B[0mCRS\u001B[0m\u001B[1;33m\u001B[0m\u001B[1;33m\u001B[0m\u001B[0m\n\u001B[0m\u001B[0;32m     10\u001B[0m \u001B[1;32mfrom\u001B[0m \u001B[0mshapely\u001B[0m\u001B[1;33m.\u001B[0m\u001B[0mgeometry\u001B[0m\u001B[1;33m.\u001B[0m\u001B[0mbase\u001B[0m \u001B[1;32mimport\u001B[0m \u001B[0mBaseGeometry\u001B[0m\u001B[1;33m\u001B[0m\u001B[1;33m\u001B[0m\u001B[0m\n\u001B[0;32m     11\u001B[0m \u001B[1;33m\u001B[0m\u001B[0m\n",
      "\u001B[1;31mImportError\u001B[0m: cannot import name 'CRS' from 'pyproj' (C:\\Users\\Antonis\\anaconda3\\lib\\site-packages\\pyproj\\__init__.py)"
     ]
    }
   ],
   "source": [
    "import pandas as pd\n",
    "from shapely import wkt\n",
    "from shapely.geometry import LineString\n",
    "import geopandas"
   ],
   "metadata": {
    "collapsed": false,
    "pycharm": {
     "name": "#%%\n"
    }
   }
  },
  {
   "cell_type": "code",
   "execution_count": 5,
   "outputs": [
    {
     "data": {
      "text/plain": "      OBJECTNUMMER  Straatvaknummer Loopruimte Walkability_algemeen  \\\n0                1                1       ruim                 goed   \n1                2                2  zeer ruim           uitstekend   \n2                3                3       ruim                 goed   \n3                4                4       ruim                matig   \n4                5                5       krap                 goed   \n...            ...              ...        ...                  ...   \n9609          9613             9613       krap                 goed   \n9610          9614             9614       ruim                 goed   \n9611          9615             9615       krap                matig   \n9612          9616             9616       ruim           uitstekend   \n9613          9617             9617       krap                 goed   \n\n     Drukte_algemeen Walkability_recreatief Drukte_recreatief  \\\n0               druk                  matig         zeer druk   \n1        zeer rustig             uitstekend       zeer rustig   \n2             rustig                   goed            rustig   \n3          zeer druk                  matig         zeer druk   \n4        zeer rustig                   goed       zeer rustig   \n...              ...                    ...               ...   \n9609     zeer rustig                   goed       zeer rustig   \n9610          rustig                  matig              druk   \n9611          rustig                  matig            rustig   \n9612     zeer rustig             uitstekend       zeer rustig   \n9613          rustig                  matig              druk   \n\n     Walkability_toeristisch Drukte_toeristisch Walkability_werkgerelateerd  \\\n0                 uitstekend        zeer rustig                  uitstekend   \n1                 uitstekend        zeer rustig                  uitstekend   \n2                      matig               druk                       matig   \n3                      matig          zeer druk                       matig   \n4                      matig             rustig                       matig   \n...                      ...                ...                         ...   \n9609                   matig             rustig                       matig   \n9610                    goed             rustig                        goed   \n9611                   matig               druk                       matig   \n9612                    goed             rustig                        goed   \n9613                  slecht          zeer druk                       matig   \n\n     Drukte_werkgerelateerd  \\\n0               zeer rustig   \n1               zeer rustig   \n2                      druk   \n3                 zeer druk   \n4                    rustig   \n...                     ...   \n9609                 rustig   \n9610                 rustig   \n9611                 rustig   \n9612                 rustig   \n9613                   druk   \n\n                                            WKT_LNG_LAT  \\\n0      LINESTRING(4.88493 52.342693,4.884867 52.342696)   \n1      LINESTRING(4.93276 52.354894,4.932682 52.354946)   \n2      LINESTRING(4.889813 52.375347,4.889822 52.37535)   \n3      LINESTRING(4.89343 52.369933,4.893282 52.369381)   \n4     LINESTRING(4.883258 52.375285,4.88322 52.37530...   \n...                                                 ...   \n9609  LINESTRING(4.865319 52.370139,4.864897 52.370283)   \n9610  LINESTRING(4.852033 52.370128,4.852056 52.3700...   \n9611  LINESTRING(4.889079 52.375654,4.889084 52.375646)   \n9612  LINESTRING(4.89696 52.36207,4.897011 52.362065...   \n9613  LINESTRING(4.901286 52.373335,4.901407 52.373262)   \n\n                                            WKT_LAT_LNG       LNG        LAT  \\\n0      LINESTRING(52.342693 4.88493,52.342696 4.884867)  4.884899  52.342695   \n1      LINESTRING(52.354894 4.93276,52.354946 4.932682)  4.932721  52.354920   \n2      LINESTRING(52.375347 4.889813,52.37535 4.889822)  4.889818  52.375349   \n3      LINESTRING(52.369933 4.89343,52.369381 4.893282)  4.893356  52.369657   \n4     LINESTRING(52.375285 4.883258,52.375303 4.8832...  4.883119  52.375293   \n...                                                 ...       ...        ...   \n9609  LINESTRING(52.370139 4.865319,52.370283 4.864897)  4.865108  52.370211   \n9610  LINESTRING(52.370128 4.852033,52.370098 4.8520...  4.852056  52.370120   \n9611  LINESTRING(52.375654 4.889079,52.375646 4.889084)  4.889081  52.375650   \n9612  LINESTRING(52.36207 4.89696,52.362065 4.897011...  4.897004  52.362093   \n9613  LINESTRING(52.373335 4.901286,52.373262 4.901407)  4.901346  52.373298   \n\n      Unnamed: 15  \n0             NaN  \n1             NaN  \n2             NaN  \n3             NaN  \n4             NaN  \n...           ...  \n9609          NaN  \n9610          NaN  \n9611          NaN  \n9612          NaN  \n9613          NaN  \n\n[9614 rows x 16 columns]",
      "text/html": "<div>\n<style scoped>\n    .dataframe tbody tr th:only-of-type {\n        vertical-align: middle;\n    }\n\n    .dataframe tbody tr th {\n        vertical-align: top;\n    }\n\n    .dataframe thead th {\n        text-align: right;\n    }\n</style>\n<table border=\"1\" class=\"dataframe\">\n  <thead>\n    <tr style=\"text-align: right;\">\n      <th></th>\n      <th>OBJECTNUMMER</th>\n      <th>Straatvaknummer</th>\n      <th>Loopruimte</th>\n      <th>Walkability_algemeen</th>\n      <th>Drukte_algemeen</th>\n      <th>Walkability_recreatief</th>\n      <th>Drukte_recreatief</th>\n      <th>Walkability_toeristisch</th>\n      <th>Drukte_toeristisch</th>\n      <th>Walkability_werkgerelateerd</th>\n      <th>Drukte_werkgerelateerd</th>\n      <th>WKT_LNG_LAT</th>\n      <th>WKT_LAT_LNG</th>\n      <th>LNG</th>\n      <th>LAT</th>\n      <th>Unnamed: 15</th>\n    </tr>\n  </thead>\n  <tbody>\n    <tr>\n      <th>0</th>\n      <td>1</td>\n      <td>1</td>\n      <td>ruim</td>\n      <td>goed</td>\n      <td>druk</td>\n      <td>matig</td>\n      <td>zeer druk</td>\n      <td>uitstekend</td>\n      <td>zeer rustig</td>\n      <td>uitstekend</td>\n      <td>zeer rustig</td>\n      <td>LINESTRING(4.88493 52.342693,4.884867 52.342696)</td>\n      <td>LINESTRING(52.342693 4.88493,52.342696 4.884867)</td>\n      <td>4.884899</td>\n      <td>52.342695</td>\n      <td>NaN</td>\n    </tr>\n    <tr>\n      <th>1</th>\n      <td>2</td>\n      <td>2</td>\n      <td>zeer ruim</td>\n      <td>uitstekend</td>\n      <td>zeer rustig</td>\n      <td>uitstekend</td>\n      <td>zeer rustig</td>\n      <td>uitstekend</td>\n      <td>zeer rustig</td>\n      <td>uitstekend</td>\n      <td>zeer rustig</td>\n      <td>LINESTRING(4.93276 52.354894,4.932682 52.354946)</td>\n      <td>LINESTRING(52.354894 4.93276,52.354946 4.932682)</td>\n      <td>4.932721</td>\n      <td>52.354920</td>\n      <td>NaN</td>\n    </tr>\n    <tr>\n      <th>2</th>\n      <td>3</td>\n      <td>3</td>\n      <td>ruim</td>\n      <td>goed</td>\n      <td>rustig</td>\n      <td>goed</td>\n      <td>rustig</td>\n      <td>matig</td>\n      <td>druk</td>\n      <td>matig</td>\n      <td>druk</td>\n      <td>LINESTRING(4.889813 52.375347,4.889822 52.37535)</td>\n      <td>LINESTRING(52.375347 4.889813,52.37535 4.889822)</td>\n      <td>4.889818</td>\n      <td>52.375349</td>\n      <td>NaN</td>\n    </tr>\n    <tr>\n      <th>3</th>\n      <td>4</td>\n      <td>4</td>\n      <td>ruim</td>\n      <td>matig</td>\n      <td>zeer druk</td>\n      <td>matig</td>\n      <td>zeer druk</td>\n      <td>matig</td>\n      <td>zeer druk</td>\n      <td>matig</td>\n      <td>zeer druk</td>\n      <td>LINESTRING(4.89343 52.369933,4.893282 52.369381)</td>\n      <td>LINESTRING(52.369933 4.89343,52.369381 4.893282)</td>\n      <td>4.893356</td>\n      <td>52.369657</td>\n      <td>NaN</td>\n    </tr>\n    <tr>\n      <th>4</th>\n      <td>5</td>\n      <td>5</td>\n      <td>krap</td>\n      <td>goed</td>\n      <td>zeer rustig</td>\n      <td>goed</td>\n      <td>zeer rustig</td>\n      <td>matig</td>\n      <td>rustig</td>\n      <td>matig</td>\n      <td>rustig</td>\n      <td>LINESTRING(4.883258 52.375285,4.88322 52.37530...</td>\n      <td>LINESTRING(52.375285 4.883258,52.375303 4.8832...</td>\n      <td>4.883119</td>\n      <td>52.375293</td>\n      <td>NaN</td>\n    </tr>\n    <tr>\n      <th>...</th>\n      <td>...</td>\n      <td>...</td>\n      <td>...</td>\n      <td>...</td>\n      <td>...</td>\n      <td>...</td>\n      <td>...</td>\n      <td>...</td>\n      <td>...</td>\n      <td>...</td>\n      <td>...</td>\n      <td>...</td>\n      <td>...</td>\n      <td>...</td>\n      <td>...</td>\n      <td>...</td>\n    </tr>\n    <tr>\n      <th>9609</th>\n      <td>9613</td>\n      <td>9613</td>\n      <td>krap</td>\n      <td>goed</td>\n      <td>zeer rustig</td>\n      <td>goed</td>\n      <td>zeer rustig</td>\n      <td>matig</td>\n      <td>rustig</td>\n      <td>matig</td>\n      <td>rustig</td>\n      <td>LINESTRING(4.865319 52.370139,4.864897 52.370283)</td>\n      <td>LINESTRING(52.370139 4.865319,52.370283 4.864897)</td>\n      <td>4.865108</td>\n      <td>52.370211</td>\n      <td>NaN</td>\n    </tr>\n    <tr>\n      <th>9610</th>\n      <td>9614</td>\n      <td>9614</td>\n      <td>ruim</td>\n      <td>goed</td>\n      <td>rustig</td>\n      <td>matig</td>\n      <td>druk</td>\n      <td>goed</td>\n      <td>rustig</td>\n      <td>goed</td>\n      <td>rustig</td>\n      <td>LINESTRING(4.852033 52.370128,4.852056 52.3700...</td>\n      <td>LINESTRING(52.370128 4.852033,52.370098 4.8520...</td>\n      <td>4.852056</td>\n      <td>52.370120</td>\n      <td>NaN</td>\n    </tr>\n    <tr>\n      <th>9611</th>\n      <td>9615</td>\n      <td>9615</td>\n      <td>krap</td>\n      <td>matig</td>\n      <td>rustig</td>\n      <td>matig</td>\n      <td>rustig</td>\n      <td>matig</td>\n      <td>druk</td>\n      <td>matig</td>\n      <td>rustig</td>\n      <td>LINESTRING(4.889079 52.375654,4.889084 52.375646)</td>\n      <td>LINESTRING(52.375654 4.889079,52.375646 4.889084)</td>\n      <td>4.889081</td>\n      <td>52.375650</td>\n      <td>NaN</td>\n    </tr>\n    <tr>\n      <th>9612</th>\n      <td>9616</td>\n      <td>9616</td>\n      <td>ruim</td>\n      <td>uitstekend</td>\n      <td>zeer rustig</td>\n      <td>uitstekend</td>\n      <td>zeer rustig</td>\n      <td>goed</td>\n      <td>rustig</td>\n      <td>goed</td>\n      <td>rustig</td>\n      <td>LINESTRING(4.89696 52.36207,4.897011 52.362065...</td>\n      <td>LINESTRING(52.36207 4.89696,52.362065 4.897011...</td>\n      <td>4.897004</td>\n      <td>52.362093</td>\n      <td>NaN</td>\n    </tr>\n    <tr>\n      <th>9613</th>\n      <td>9617</td>\n      <td>9617</td>\n      <td>krap</td>\n      <td>goed</td>\n      <td>rustig</td>\n      <td>matig</td>\n      <td>druk</td>\n      <td>slecht</td>\n      <td>zeer druk</td>\n      <td>matig</td>\n      <td>druk</td>\n      <td>LINESTRING(4.901286 52.373335,4.901407 52.373262)</td>\n      <td>LINESTRING(52.373335 4.901286,52.373262 4.901407)</td>\n      <td>4.901346</td>\n      <td>52.373298</td>\n      <td>NaN</td>\n    </tr>\n  </tbody>\n</table>\n<p>9614 rows × 16 columns</p>\n</div>"
     },
     "execution_count": 5,
     "metadata": {},
     "output_type": "execute_result"
    }
   ],
   "source": [
    "walkability_df = pd.read_csv('data/WALKABILITY.csv', sep=';')\n",
    "walkability_df"
   ],
   "metadata": {
    "collapsed": false,
    "pycharm": {
     "name": "#%%\n"
    }
   }
  },
  {
   "cell_type": "code",
   "execution_count": 17,
   "outputs": [
    {
     "ename": "NameError",
     "evalue": "name 'geopandas' is not defined",
     "output_type": "error",
     "traceback": [
      "\u001B[1;31m---------------------------------------------------------------------------\u001B[0m",
      "\u001B[1;31mNameError\u001B[0m                                 Traceback (most recent call last)",
      "\u001B[1;32m<ipython-input-17-61dfa5a06e87>\u001B[0m in \u001B[0;36m<module>\u001B[1;34m\u001B[0m\n\u001B[1;32m----> 1\u001B[1;33m \u001B[0mwalkability_df\u001B[0m\u001B[1;33m[\u001B[0m\u001B[1;34m'WKT_LNG_LAT'\u001B[0m\u001B[1;33m]\u001B[0m \u001B[1;33m=\u001B[0m \u001B[0mgeopandas\u001B[0m\u001B[1;33m.\u001B[0m\u001B[0mGeoSeries\u001B[0m\u001B[1;33m.\u001B[0m\u001B[0mfrom_wkt\u001B[0m\u001B[1;33m(\u001B[0m\u001B[0mwalkability_df\u001B[0m\u001B[1;33m[\u001B[0m\u001B[1;34m'WKT_LNG_LAT'\u001B[0m\u001B[1;33m]\u001B[0m\u001B[1;33m)\u001B[0m\u001B[1;33m\u001B[0m\u001B[1;33m\u001B[0m\u001B[0m\n\u001B[0m\u001B[0;32m      2\u001B[0m \u001B[0mwalkability_df\u001B[0m\u001B[1;33m[\u001B[0m\u001B[1;34m'WKT_LAT_LNG'\u001B[0m\u001B[1;33m]\u001B[0m \u001B[1;33m=\u001B[0m \u001B[0mgeopandas\u001B[0m\u001B[1;33m.\u001B[0m\u001B[0mGeoSeries\u001B[0m\u001B[1;33m.\u001B[0m\u001B[0mfrom_wkt\u001B[0m\u001B[1;33m(\u001B[0m\u001B[0mwalkability_df\u001B[0m\u001B[1;33m[\u001B[0m\u001B[1;34m'WKT_LAT_LNG'\u001B[0m\u001B[1;33m]\u001B[0m\u001B[1;33m)\u001B[0m\u001B[1;33m\u001B[0m\u001B[1;33m\u001B[0m\u001B[0m\n\u001B[0;32m      3\u001B[0m \u001B[0mwalkability_df\u001B[0m\u001B[1;33m\u001B[0m\u001B[1;33m\u001B[0m\u001B[0m\n\u001B[0;32m      4\u001B[0m \u001B[1;31m# walkability_df['Drukte_algemeen'].astype(LineString)\u001B[0m\u001B[1;33m\u001B[0m\u001B[1;33m\u001B[0m\u001B[1;33m\u001B[0m\u001B[0m\n",
      "\u001B[1;31mNameError\u001B[0m: name 'geopandas' is not defined"
     ]
    }
   ],
   "source": [
    "walkability_df['WKT_LNG_LAT'] = geopandas.GeoSeries.from_wkt(walkability_df['WKT_LNG_LAT'])\n",
    "walkability_df['WKT_LAT_LNG'] = geopandas.GeoSeries.from_wkt(walkability_df['WKT_LAT_LNG'])\n",
    "walkability_df\n",
    "# walkability_df['Drukte_algemeen'].astype(LineString)"
   ],
   "metadata": {
    "collapsed": false,
    "pycharm": {
     "name": "#%%\n"
    }
   }
  },
  {
   "cell_type": "code",
   "execution_count": null,
   "outputs": [],
   "source": [],
   "metadata": {
    "collapsed": false,
    "pycharm": {
     "name": "#%%\n"
    }
   }
  }
 ],
 "metadata": {
  "kernelspec": {
   "display_name": "Python 3",
   "language": "python",
   "name": "python3"
  },
  "language_info": {
   "codemirror_mode": {
    "name": "ipython",
    "version": 2
   },
   "file_extension": ".py",
   "mimetype": "text/x-python",
   "name": "python",
   "nbconvert_exporter": "python",
   "pygments_lexer": "ipython2",
   "version": "2.7.6"
  }
 },
 "nbformat": 4,
 "nbformat_minor": 0
}